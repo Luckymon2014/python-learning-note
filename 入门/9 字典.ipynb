{
 "cells": [
  {
   "cell_type": "markdown",
   "metadata": {},
   "source": [
    "# 字典\n",
    "\n",
    "- Key : Value"
   ]
  },
  {
   "cell_type": "code",
   "execution_count": 18,
   "metadata": {},
   "outputs": [
    {
     "name": "stdout",
     "output_type": "stream",
     "text": [
      "{'pen': 7, 'apple': 3, 'applepen': 10}\n",
      "{1: 'a', 5: 'b', 2: 'd'}\n",
      "{1.2: 3, 'a': 3.5, 1: 'd'}\n"
     ]
    }
   ],
   "source": [
    "a_list = [1,2,3,4,5]\n",
    "\n",
    "d1 = {'pen': 7,\n",
    "    'apple': 3,\n",
    "    'applepen': 10}\n",
    "\n",
    "d2 = {1: 'a',\n",
    "     5: 'b',\n",
    "     2: 'd'}\n",
    "\n",
    "d3 = {1.2: 3,\n",
    "     'a': 3.5,\n",
    "     1: 'd'}\n",
    "\n",
    "print(d1)\n",
    "print(d2)\n",
    "print(d3)"
   ]
  },
  {
   "cell_type": "code",
   "execution_count": 19,
   "metadata": {},
   "outputs": [
    {
     "name": "stdout",
     "output_type": "stream",
     "text": [
      "3\n",
      "d\n",
      "3\n"
     ]
    }
   ],
   "source": [
    "print(d1['apple'])\n",
    "print(d2[2])\n",
    "print(d3[1.2])"
   ]
  },
  {
   "cell_type": "code",
   "execution_count": 20,
   "metadata": {},
   "outputs": [
    {
     "name": "stdout",
     "output_type": "stream",
     "text": [
      "{'a': [1, 2, 3, 4], 'b': (4, 3, 2, 1), 'c': {'aa': 1, 'bb': 2}}\n"
     ]
    }
   ],
   "source": [
    "d4 = {'a': [1,2,3,4],\n",
    "     'b': (4,3,2,1),\n",
    "     'c': {'aa': 1,\n",
    "          'bb': 2}}\n",
    "print(d4)"
   ]
  },
  {
   "cell_type": "code",
   "execution_count": 21,
   "metadata": {},
   "outputs": [
    {
     "name": "stdout",
     "output_type": "stream",
     "text": [
      "2\n"
     ]
    }
   ],
   "source": [
    "print(d4['c']['bb'])"
   ]
  },
  {
   "cell_type": "markdown",
   "metadata": {},
   "source": [
    "#### 修改键值"
   ]
  },
  {
   "cell_type": "code",
   "execution_count": 22,
   "metadata": {},
   "outputs": [
    {
     "name": "stdout",
     "output_type": "stream",
     "text": [
      "{'pen': 20, 'apple': 3, 'applepen': 10}\n"
     ]
    }
   ],
   "source": [
    "d1['pen'] = 20\n",
    "print(d1)"
   ]
  },
  {
   "cell_type": "markdown",
   "metadata": {},
   "source": [
    "#### 新增键值\n",
    "- 字典是没有顺序的容器"
   ]
  },
  {
   "cell_type": "code",
   "execution_count": 23,
   "metadata": {},
   "outputs": [
    {
     "name": "stdout",
     "output_type": "stream",
     "text": [
      "{'pen': 20, 'apple': 3, 'applepen': 10, 'pineapple': 0}\n"
     ]
    }
   ],
   "source": [
    "d1['pineapple'] = 0\n",
    "print(d1)"
   ]
  },
  {
   "cell_type": "markdown",
   "metadata": {},
   "source": [
    "#### 删除键值"
   ]
  },
  {
   "cell_type": "code",
   "execution_count": 24,
   "metadata": {},
   "outputs": [
    {
     "name": "stdout",
     "output_type": "stream",
     "text": [
      "{'pen': 20, 'applepen': 10, 'pineapple': 0}\n"
     ]
    }
   ],
   "source": [
    "del d1['apple']\n",
    "print(d1)"
   ]
  },
  {
   "cell_type": "markdown",
   "metadata": {},
   "source": [
    "#### 遍历字典"
   ]
  },
  {
   "cell_type": "code",
   "execution_count": 25,
   "metadata": {},
   "outputs": [
    {
     "name": "stdout",
     "output_type": "stream",
     "text": [
      "a :  [1, 2, 3, 4]\n",
      "b :  (4, 3, 2, 1)\n",
      "c :  {'aa': 1, 'bb': 2}\n"
     ]
    }
   ],
   "source": [
    "for key,value in d4.items():\n",
    "    print(key, ': ', value)"
   ]
  },
  {
   "cell_type": "code",
   "execution_count": 29,
   "metadata": {},
   "outputs": [
    {
     "name": "stdout",
     "output_type": "stream",
     "text": [
      "1\n",
      "5\n",
      "2\n"
     ]
    }
   ],
   "source": [
    "for key in d2.keys():\n",
    "    print(key)"
   ]
  },
  {
   "cell_type": "code",
   "execution_count": 27,
   "metadata": {},
   "outputs": [
    {
     "name": "stdout",
     "output_type": "stream",
     "text": [
      "a\n",
      "b\n",
      "d\n"
     ]
    }
   ],
   "source": [
    "for value in d2.values():\n",
    "    print(value)"
   ]
  },
  {
   "cell_type": "markdown",
   "metadata": {},
   "source": [
    "#### 排序键"
   ]
  },
  {
   "cell_type": "code",
   "execution_count": 30,
   "metadata": {},
   "outputs": [
    {
     "name": "stdout",
     "output_type": "stream",
     "text": [
      "1\n",
      "2\n",
      "5\n",
      "a\n",
      "b\n",
      "d\n"
     ]
    }
   ],
   "source": [
    "for key in sorted(d2.keys()):\n",
    "    print(key)\n",
    "for value in sorted(d2.values()):\n",
    "    print(value)"
   ]
  }
 ],
 "metadata": {
  "kernelspec": {
   "display_name": "Python 3",
   "language": "python",
   "name": "python3"
  },
  "language_info": {
   "codemirror_mode": {
    "name": "ipython",
    "version": 3
   },
   "file_extension": ".py",
   "mimetype": "text/x-python",
   "name": "python",
   "nbconvert_exporter": "python",
   "pygments_lexer": "ipython3",
   "version": "3.6.5"
  }
 },
 "nbformat": 4,
 "nbformat_minor": 2
}
