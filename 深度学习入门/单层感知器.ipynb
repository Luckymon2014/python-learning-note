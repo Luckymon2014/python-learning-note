{
 "cells": [
  {
   "cell_type": "code",
   "execution_count": 38,
   "metadata": {},
   "outputs": [],
   "source": [
    "import numpy as np\n",
    "import matplotlib.pyplot as plt"
   ]
  },
  {
   "cell_type": "markdown",
   "metadata": {},
   "source": [
    "#### 算法"
   ]
  },
  {
   "cell_type": "code",
   "execution_count": 39,
   "metadata": {},
   "outputs": [
    {
     "name": "stdout",
     "output_type": "stream",
     "text": [
      "[ 0.62785693 -0.3653227  -0.55877786]\n"
     ]
    }
   ],
   "source": [
    "#输入数据\n",
    "X = np.array([[1,3,3], \n",
    "              [1,4,3],\n",
    "              [1,1,1]])\n",
    "#标签\n",
    "Y = np.array([1,1,-1])\n",
    "#权值初始化\n",
    "W = (np.random.random(3) - 0.5) * 2\n",
    "print(W)\n",
    "#学习率\n",
    "lr = 0.1\n",
    "#计算迭代次数\n",
    "n = 0\n",
    "#神经网络输出\n",
    "O = 0\n",
    "\n",
    "#学习算法\n",
    "def update():\n",
    "    global X,Y,W,lr,n\n",
    "    n += 1\n",
    "    O = np.sign(X.dot(W.T))\n",
    "    W_C = lr * ((Y - O.T).dot(X)) / int(X.shape[0])\n",
    "    W = W + W_C"
   ]
  },
  {
   "cell_type": "markdown",
   "metadata": {},
   "source": [
    "#### 迭代学习"
   ]
  },
  {
   "cell_type": "code",
   "execution_count": 40,
   "metadata": {},
   "outputs": [
    {
     "name": "stdout",
     "output_type": "stream",
     "text": [
      "1 [ 0.76119026  0.10134397 -0.15877786]\n",
      "2 [ 0.6945236   0.0346773  -0.22544453]\n",
      "3 [ 0.62785693 -0.03198937 -0.2921112 ]\n",
      "4 [0.6945236  0.36801063 0.04122214]\n",
      "5 [ 0.62785693  0.30134397 -0.02544453]\n",
      "6 [ 0.56119026  0.2346773  -0.0921112 ]\n",
      "7 [ 0.4945236   0.16801063 -0.15877786]\n",
      "8 [ 0.42785693  0.10134397 -0.22544453]\n",
      "9 [ 0.36119026  0.0346773  -0.2921112 ]\n",
      "10 [0.42785693 0.4346773  0.04122214]\n",
      "11 [ 0.36119026  0.36801063 -0.02544453]\n",
      "12 [ 0.2945236   0.30134397 -0.0921112 ]\n",
      "13 [ 0.22785693  0.2346773  -0.15877786]\n",
      "14 [ 0.16119026  0.16801063 -0.22544453]\n",
      "15 [ 0.16119026  0.30134397 -0.0921112 ]\n",
      "16 [ 0.0945236   0.2346773  -0.15877786]\n",
      "17 [ 0.02785693  0.16801063 -0.22544453]\n",
      "18 [ 0.0945236   0.36801063 -0.02544453]\n",
      "19 [ 0.02785693  0.30134397 -0.0921112 ]\n",
      "20 [-0.03880974  0.2346773  -0.15877786]\n",
      "21 [-0.1054764   0.16801063 -0.22544453]\n",
      "22 [0.02785693 0.6346773  0.17455547]\n",
      "23 [-0.03880974  0.56801063  0.1078888 ]\n",
      "24 [-0.1054764   0.50134397  0.04122214]\n",
      "25 [-0.17214307  0.4346773  -0.02544453]\n",
      "26 [-0.23880974  0.36801063 -0.0921112 ]\n",
      "27 [-0.3054764   0.30134397 -0.15877786]\n",
      "Finished\n",
      "epoch: 27\n"
     ]
    }
   ],
   "source": [
    "for i in range(100):\n",
    "    update()\n",
    "    print(n, W) #当前权值\n",
    "    O = np.sign(X.dot(W.T)) #当前输出\n",
    "    if (O == Y.T).all(): #当前输出=期望输出，模型收敛\n",
    "        print('Finished')\n",
    "        print('epoch:', n)\n",
    "        break"
   ]
  },
  {
   "cell_type": "markdown",
   "metadata": {},
   "source": [
    "#### 用图显示\n",
    "\n",
    "- 分界线：\n",
    "    - $ X{W_j}^T = \\sum_i{w_i x_i} = W_0 + x_1 W_1 + x_2 W_2 = 0$\n",
    "    - $ x_2 = - \\frac{W_1}{W_2} x_1 - \\frac {W_0}{W_2} $\n",
    "    - $ k = - \\frac{W_1}{W_2} $\n",
    "    - $ b = - \\frac {W_0}{W_2} $"
   ]
  },
  {
   "cell_type": "code",
   "execution_count": 41,
   "metadata": {},
   "outputs": [
    {
     "data": {
      "image/png": "[encoded data removed]",
      "text/plain": [
       "<Figure size 432x288 with 1 Axes>"
      ]
     },
     "metadata": {},
     "output_type": "display_data"
    }
   ],
   "source": [
    "# 正样本\n",
    "x1 = [3,4]\n",
    "y1 = [3,3]\n",
    "# 负样本\n",
    "x2 = [1]\n",
    "y2 = [1]\n",
    "\n",
    "#计算分界线的斜率以及截距\n",
    "k = -W[1]/W[2]\n",
    "b = -W[0]/W[2]\n",
    "\n",
    "#绘图\n",
    "plt.figure()\n",
    "xdata = np.linspace(0,5)\n",
    "plt.plot(xdata, xdata * k + b, 'r')\n",
    "plt.plot(x1,y1, 'bo')\n",
    "plt.plot(x2,y2, 'yo')\n",
    "plt.show()"
   ]
  }
 ],
 "metadata": {
  "kernelspec": {
   "display_name": "Python 3",
   "language": "python",
   "name": "python3"
  },
  "language_info": {
   "codemirror_mode": {
    "name": "ipython",
    "version": 3
   },
   "file_extension": ".py",
   "mimetype": "text/x-python",
   "name": "python",
   "nbconvert_exporter": "python",
   "pygments_lexer": "ipython3",
   "version": "3.6.5"
  }
 },
 "nbformat": 4,
 "nbformat_minor": 2
}
