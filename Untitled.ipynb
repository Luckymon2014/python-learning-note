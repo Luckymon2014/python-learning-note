{
 "cells": [
  {
   "cell_type": "code",
   "execution_count": 1,
   "metadata": {},
   "outputs": [],
   "source": [
    "import requests\n",
    "import json\n",
    "import pandas as pd"
   ]
  },
  {
   "cell_type": "code",
   "execution_count": 2,
   "metadata": {},
   "outputs": [
    {
     "name": "stdout",
     "output_type": "stream",
     "text": [
      "4259588822478446\n",
      "4259268163488186\n",
      "4258953711990333\n",
      "4258837148144524\n",
      "4257995770574946\n",
      "4257843693343695\n",
      "4257468479462315\n",
      "4257305480202836\n",
      "4257069538006156\n"
     ]
    }
   ],
   "source": [
    "# weibo_id\n",
    "comment_parameter = []\n",
    "# weibo_url\n",
    "comment_url = []\n",
    "\n",
    "#获取每条微博的id值\n",
    "url = 'https://m.weibo.cn/api/container/getIndex?uid=1613357522&luicode=10000011&lfid=100103type%3D1%26q%3D%E6%9D%8E_%E8%82%96%E9%81%A5&featurecode=20000320&containerid=1076031613357522'\n",
    "c_r = requests.get(url)\n",
    "for i in range(2,11):\n",
    "    c_parameter = (json.loads(c_r.text)[\"data\"][\"cards\"][i][\"mblog\"][\"id\"])\n",
    "    print(c_parameter)\n",
    "    comment_parameter.append(c_parameter)\n",
    "\n",
    "#获取每条微博评论url\n",
    "c_url_base = 'https://m.weibo.cn/api/comments/show?id='\n",
    "for parameter in comment_parameter:\n",
    "    for page in range(1,101):#提前知道每条微博只可抓取前100页评论\n",
    "        c_url = c_url_base + str(parameter) + \"&page=\" + str(page)\n",
    "        comment_url.append(c_url)\n"
   ]
  },
  {
   "cell_type": "markdown",
   "metadata": {},
   "source": [
    "上面获取到每条微博评论的url以后，我们就可以直接请求对应的url，然后把user_id和text解析出来即可"
   ]
  },
  {
   "cell_type": "code",
   "execution_count": null,
   "metadata": {},
   "outputs": [],
   "source": [
    "user_id = []\n",
    "comment = []\n",
    "\n",
    "for url in comment_url:\n",
    "    u_c_r = requests.get(url)\n",
    "    try:\n",
    "        for m in range(0,9):#提前知道每个url会包含9条用户信息\n",
    "            one_id = json.loads(u_c_r.text)[\"data\"][\"data\"][m][\"user\"][\"id\"]\n",
    "            user_id.append(one_id)\n",
    "            one_comment = json.loads(u_c_r.text)[\"data\"][\"data\"][m][\"text\"]\n",
    "            comment.append(one_comment)\n",
    "    except:\n",
    "        pass"
   ]
  },
  {
   "cell_type": "markdown",
   "metadata": {},
   "source": [
    "获取containerid"
   ]
  },
  {
   "cell_type": "code",
   "execution_count": null,
   "metadata": {},
   "outputs": [],
   "source": [
    "containerid = []\n",
    "user_base_url = \"https://m.weibo.cn/api/container/getIndex?type=uid&value=\"\n",
    "for id in set(user_id):#需要对user_id去重\n",
    "    containerid_url = user_base_url + str(id)\n",
    "    try:\n",
    "        con_r = requests.get(containerid_url)\n",
    "        one_containerid = json.loads(con_r.text)[\"data\"]['tabsInfo']['tabs'][0][\"containerid\"]\n",
    "        containerid.append(one_containerid)\n",
    "    except:\n",
    "        containerid.append(0)"
   ]
  },
  {
   "cell_type": "markdown",
   "metadata": {},
   "source": [
    "获取用户基本信息"
   ]
  },
  {
   "cell_type": "code",
   "execution_count": null,
   "metadata": {},
   "outputs": [],
   "source": [
    "#这里需要设置headers以及cookie模拟登陆\n",
    "feature = []#存放用户基本信息\n",
    "id_lose = []#存放请求失败id\n",
    "user_agent = \"Mozilla/5.0 (Windows NT 10.0; WOW64) AppleWebKit/537.36 (KHTML, like Gecko) Chrome/66.0.3359.181 Safari/537.36\"\n",
    "headers = {\"User-Agent\":user_agent}\n",
    "m = 1\n",
    "for num in zip(user_id,containerid):\n",
    "    url = \"https://m.weibo.cn/api/container/getIndex?uid=\"+str(num[0])+\"&luicode=10000011&lfid=100103type%3D1%26q%3D&featurecode=20000320&type=uid&value=\"+str(num[0])+\"&containerid=\"+str(num[1])\n",
    "    try:\n",
    "        r = requests.get(url,headers = headers,cookies = cookie)\n",
    "        feature.append(json.loads(r.text)[\"data\"][\"cards\"][1][\"card_group\"][1][\"item_content\"].split(\"  \"))\n",
    "        print(\"成功第{}条\".format(m))\n",
    "        m = m + 1\n",
    "        time.sleep(1)#设置睡眠一秒钟，防止被封\n",
    "    except:\n",
    "        id_lose.append(num[0])\n",
    "\n",
    "#将featrue建立成DataFrame结构便于后续分析\n",
    "user_info = pd.DataFrame(feature,columns = [\"性别\",\"年龄\",\"星座\",\"国家城市\"])"
   ]
  }
 ],
 "metadata": {
  "kernelspec": {
   "display_name": "Python 3",
   "language": "python",
   "name": "python3"
  },
  "language_info": {
   "codemirror_mode": {
    "name": "ipython",
    "version": 3
   },
   "file_extension": ".py",
   "mimetype": "text/x-python",
   "name": "python",
   "nbconvert_exporter": "python",
   "pygments_lexer": "ipython3",
   "version": "3.6.5"
  }
 },
 "nbformat": 4,
 "nbformat_minor": 2
}
