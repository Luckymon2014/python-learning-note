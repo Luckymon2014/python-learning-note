{
 "cells": [
  {
   "cell_type": "code",
   "execution_count": null,
   "metadata": {},
   "outputs": [
    {
     "name": "stdout",
     "output_type": "stream",
     "text": [
      "Game Start!\n"
     ]
    }
   ],
   "source": [
    "import random\n",
    "\n",
    "n = random.randint(1, 100)\n",
    "step = 0\n",
    "\n",
    "print('Game Start!')\n",
    "\n",
    "guess = int(input('Please enter a number from 1 to 100:'))\n",
    "\n",
    "while True:\n",
    "    step += 1\n",
    "    print('step', step)\n",
    "    if guess < n:\n",
    "        print(guess, 'is low')\n",
    "    elif guess > n:\n",
    "        print(guess, 'is high')\n",
    "    else:\n",
    "        print('You Win!')\n",
    "        break\n",
    "    guess = int(input('Please enter a number from 1 to 100:'))"
   ]
  },
  {
   "cell_type": "code",
   "execution_count": null,
   "metadata": {},
   "outputs": [],
   "source": [
    "import random\n",
    "\n",
    "n = random.randint(1, 100)\n",
    "step = 0\n",
    "\n",
    "print('Game Start!')\n",
    "\n",
    "def get_number():\n",
    "    guess = input('Please enter a number from 1 to 100:')\n",
    "    while True:\n",
    "        if guess.isdigit():\n",
    "            guess = int(guess)\n",
    "            return guess\n",
    "        else:\n",
    "            guess = input('Input Error, Please enter a number from 1 to 100:')\n",
    "\n",
    "guess = get_number()\n",
    "while True:\n",
    "    step += 1\n",
    "    print('step', step)\n",
    "    \n",
    "    if guess < n:\n",
    "        print(guess, 'is low')\n",
    "    elif guess > n:\n",
    "        print(guess, 'is high')\n",
    "    else:\n",
    "        print('You Win!')\n",
    "        break\n",
    "    guess = get_number()"
   ]
  },
  {
   "cell_type": "code",
   "execution_count": null,
   "metadata": {},
   "outputs": [],
   "source": []
  }
 ],
 "metadata": {
  "kernelspec": {
   "display_name": "Python 3",
   "language": "python",
   "name": "python3"
  },
  "language_info": {
   "codemirror_mode": {
    "name": "ipython",
    "version": 3
   },
   "file_extension": ".py",
   "mimetype": "text/x-python",
   "name": "python",
   "nbconvert_exporter": "python",
   "pygments_lexer": "ipython3",
   "version": "3.6.5"
  }
 },
 "nbformat": 4,
 "nbformat_minor": 2
}
