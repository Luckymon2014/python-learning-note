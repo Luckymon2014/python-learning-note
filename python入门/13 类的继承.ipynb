{
 "cells": [
  {
   "cell_type": "code",
   "execution_count": 12,
   "metadata": {},
   "outputs": [],
   "source": [
    "class person:\n",
    "    #初始化方法，创建对象时执行\n",
    "    def __init__(self, name='zhangsan', age=18):\n",
    "        self.name = name\n",
    "        self.age = age\n",
    "        print('person init')\n",
    "\n",
    "    def my_name(self): #self指针指向当前类\n",
    "        print('my name is', self.name)\n",
    "    def my_age(self):\n",
    "        print('my age is', self.age)"
   ]
  },
  {
   "cell_type": "code",
   "execution_count": 13,
   "metadata": {},
   "outputs": [],
   "source": [
    "class student(person): #继承父类\n",
    "    pass"
   ]
  },
  {
   "cell_type": "code",
   "execution_count": 14,
   "metadata": {},
   "outputs": [
    {
     "name": "stdout",
     "output_type": "stream",
     "text": [
      "person init\n"
     ]
    }
   ],
   "source": [
    "s1 = student()"
   ]
  },
  {
   "cell_type": "code",
   "execution_count": 15,
   "metadata": {},
   "outputs": [
    {
     "name": "stdout",
     "output_type": "stream",
     "text": [
      "my name is zhangsan\n"
     ]
    }
   ],
   "source": [
    "s1.my_name()"
   ]
  },
  {
   "cell_type": "code",
   "execution_count": 16,
   "metadata": {},
   "outputs": [],
   "source": [
    "class student(person):\n",
    "    def __init__(self, grade=3, school='sjtu'):\n",
    "        super().__init__() #父类初始化\n",
    "        self.grade = grade\n",
    "        self.school = school\n",
    "        self.score = 99\n",
    "        print('student init')\n",
    "    \n",
    "    def my_school(self):\n",
    "        print('my school is', self.school)"
   ]
  },
  {
   "cell_type": "code",
   "execution_count": 17,
   "metadata": {},
   "outputs": [
    {
     "name": "stdout",
     "output_type": "stream",
     "text": [
      "person init\n",
      "student init\n"
     ]
    }
   ],
   "source": [
    "s2 = student()"
   ]
  },
  {
   "cell_type": "code",
   "execution_count": 18,
   "metadata": {},
   "outputs": [
    {
     "name": "stdout",
     "output_type": "stream",
     "text": [
      "my name is zhangsan\n"
     ]
    }
   ],
   "source": [
    "s2.my_name()"
   ]
  },
  {
   "cell_type": "code",
   "execution_count": 23,
   "metadata": {},
   "outputs": [
    {
     "name": "stdout",
     "output_type": "stream",
     "text": [
      "my school is sjtu\n"
     ]
    }
   ],
   "source": [
    "s2.my_school()"
   ]
  },
  {
   "cell_type": "code",
   "execution_count": 24,
   "metadata": {},
   "outputs": [],
   "source": [
    "class student(person):\n",
    "    def __init__(self, grade=3, school='sjtu'):\n",
    "        super().__init__() #父类初始化\n",
    "        self.grade = grade\n",
    "        self.school = school\n",
    "        self.score = 99\n",
    "        print('student init')\n",
    "    \n",
    "    def my_school(self):\n",
    "        print('my school is', self.school)\n",
    "    #重写父类方法\n",
    "    def my_name(self):\n",
    "        print('i am', self.name)"
   ]
  },
  {
   "cell_type": "code",
   "execution_count": 25,
   "metadata": {},
   "outputs": [
    {
     "name": "stdout",
     "output_type": "stream",
     "text": [
      "person init\n",
      "student init\n"
     ]
    }
   ],
   "source": [
    "s3 = student()"
   ]
  },
  {
   "cell_type": "code",
   "execution_count": 26,
   "metadata": {},
   "outputs": [
    {
     "name": "stdout",
     "output_type": "stream",
     "text": [
      "i am zhangsan\n"
     ]
    }
   ],
   "source": [
    "s3.my_name()"
   ]
  }
 ],
 "metadata": {
  "kernelspec": {
   "display_name": "Python 3",
   "language": "python",
   "name": "python3"
  },
  "language_info": {
   "codemirror_mode": {
    "name": "ipython",
    "version": 3
   },
   "file_extension": ".py",
   "mimetype": "text/x-python",
   "name": "python",
   "nbconvert_exporter": "python",
   "pygments_lexer": "ipython3",
   "version": "3.6.5"
  }
 },
 "nbformat": 4,
 "nbformat_minor": 2
}
