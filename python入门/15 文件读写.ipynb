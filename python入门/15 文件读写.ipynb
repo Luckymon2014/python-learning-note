{
 "cells": [
  {
   "cell_type": "markdown",
   "metadata": {},
   "source": [
    "# 文件读写\n",
    "\n",
    "- w：以写入的方式打开文件，如果文件不存在，首先会创建该文件\n",
    "- a：以追加的方式打开文件，不会清空文件内容\n",
    "- r：以读取的方式打开文件\n",
    "- r+：先去读取一个文件，如果能打开的话就可以写入"
   ]
  },
  {
   "cell_type": "code",
   "execution_count": 1,
   "metadata": {},
   "outputs": [
    {
     "name": "stdout",
     "output_type": "stream",
     "text": [
      "hello world\n",
      "good luck\n"
     ]
    }
   ],
   "source": [
    "text = 'hello world\\ngood luck'\n",
    "print(text)"
   ]
  },
  {
   "cell_type": "code",
   "execution_count": 2,
   "metadata": {},
   "outputs": [],
   "source": [
    "f = open('f.txt', 'w')\n",
    "f.write(text)\n",
    "f.close()"
   ]
  },
  {
   "cell_type": "code",
   "execution_count": 3,
   "metadata": {},
   "outputs": [],
   "source": [
    "with open('f.txt', 'w') as f2:\n",
    "    f2.write('hhh')"
   ]
  },
  {
   "cell_type": "markdown",
   "metadata": {},
   "source": [
    "- with打开文件，可以不用close"
   ]
  },
  {
   "cell_type": "code",
   "execution_count": 6,
   "metadata": {},
   "outputs": [],
   "source": [
    "with open('f.txt', 'a') as f2:\n",
    "    f2.write('\\n123')"
   ]
  },
  {
   "cell_type": "code",
   "execution_count": 7,
   "metadata": {},
   "outputs": [
    {
     "name": "stdout",
     "output_type": "stream",
     "text": [
      "hhh123\n",
      "123\n"
     ]
    }
   ],
   "source": [
    "with open('f.txt', 'r') as f3:\n",
    "    print(f3.read())"
   ]
  },
  {
   "cell_type": "code",
   "execution_count": 12,
   "metadata": {},
   "outputs": [
    {
     "name": "stdout",
     "output_type": "stream",
     "text": [
      "hhh123\n",
      "\n",
      "123\n"
     ]
    }
   ],
   "source": [
    "with open('f.txt', 'r') as f3:\n",
    "    print(f3.readline())\n",
    "    print(f3.readline())"
   ]
  },
  {
   "cell_type": "code",
   "execution_count": 13,
   "metadata": {},
   "outputs": [
    {
     "name": "stdout",
     "output_type": "stream",
     "text": [
      "['hhh123\\n', '123']\n"
     ]
    }
   ],
   "source": [
    "with open('f.txt', 'r') as f3:\n",
    "    print(f3.readlines())"
   ]
  },
  {
   "cell_type": "code",
   "execution_count": 14,
   "metadata": {},
   "outputs": [
    {
     "name": "stdout",
     "output_type": "stream",
     "text": [
      "hhh123\n",
      "\n",
      "123\n"
     ]
    }
   ],
   "source": [
    "with open('f.txt') as f:\n",
    "    for line in f:\n",
    "        print(line)"
   ]
  },
  {
   "cell_type": "code",
   "execution_count": 16,
   "metadata": {},
   "outputs": [
    {
     "name": "stdout",
     "output_type": "stream",
     "text": [
      "hhh123\n",
      "123\n"
     ]
    }
   ],
   "source": [
    "with open('f.txt') as f:\n",
    "    for line in f:\n",
    "        print(line.rstrip())"
   ]
  }
 ],
 "metadata": {
  "kernelspec": {
   "display_name": "Python 3",
   "language": "python",
   "name": "python3"
  },
  "language_info": {
   "codemirror_mode": {
    "name": "ipython",
    "version": 3
   },
   "file_extension": ".py",
   "mimetype": "text/x-python",
   "name": "python",
   "nbconvert_exporter": "python",
   "pygments_lexer": "ipython3",
   "version": "3.6.5"
  }
 },
 "nbformat": 4,
 "nbformat_minor": 2
}
