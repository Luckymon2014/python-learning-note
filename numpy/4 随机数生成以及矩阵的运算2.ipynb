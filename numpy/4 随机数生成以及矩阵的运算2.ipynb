{
 "cells": [
  {
   "cell_type": "code",
   "execution_count": 1,
   "metadata": {},
   "outputs": [],
   "source": [
    "import numpy as np"
   ]
  },
  {
   "cell_type": "code",
   "execution_count": 9,
   "metadata": {},
   "outputs": [
    {
     "name": "stdout",
     "output_type": "stream",
     "text": [
      "[[0.32596356 0.51881047]\n",
      " [0.26185179 0.50989635]\n",
      " [0.98722868 0.16611892]]\n"
     ]
    }
   ],
   "source": [
    "r1 = np.random.random((3,2)) #生成3行2列从0到1的随机数\n",
    "print(r1)"
   ]
  },
  {
   "cell_type": "code",
   "execution_count": 10,
   "metadata": {},
   "outputs": [
    {
     "name": "stdout",
     "output_type": "stream",
     "text": [
      "[[-1.2124574  -0.71144665]\n",
      " [ 0.15485328 -0.19160559]\n",
      " [-0.64950716 -2.07646376]]\n"
     ]
    }
   ],
   "source": [
    "r2 = np.random.normal(size = (3,2)) #生成3行2列符合标准正态分布的随机数\n",
    "print(r2)"
   ]
  },
  {
   "cell_type": "code",
   "execution_count": 11,
   "metadata": {},
   "outputs": [
    {
     "name": "stdout",
     "output_type": "stream",
     "text": [
      "[[2 2]\n",
      " [2 3]\n",
      " [9 1]]\n"
     ]
    }
   ],
   "source": [
    "r3 = np.random.randint(0, 10, size=(3,2)) #生成3行2列从0到10的随机整数\n",
    "print(r3)"
   ]
  },
  {
   "cell_type": "code",
   "execution_count": 17,
   "metadata": {},
   "outputs": [
    {
     "data": {
      "text/plain": [
       "2.7698697746277636"
      ]
     },
     "execution_count": 17,
     "metadata": {},
     "output_type": "execute_result"
    }
   ],
   "source": [
    "np.sum(r1)"
   ]
  },
  {
   "cell_type": "code",
   "execution_count": 15,
   "metadata": {},
   "outputs": [
    {
     "data": {
      "text/plain": [
       "0.9872286773990558"
      ]
     },
     "execution_count": 15,
     "metadata": {},
     "output_type": "execute_result"
    }
   ],
   "source": [
    "np.min(r1)\n",
    "np.max(r1)"
   ]
  },
  {
   "cell_type": "code",
   "execution_count": 32,
   "metadata": {},
   "outputs": [
    {
     "name": "stdout",
     "output_type": "stream",
     "text": [
      "[1.57504403 1.19482575]\n",
      "[0.84477404 0.77174814 1.1533476 ]\n"
     ]
    }
   ],
   "source": [
    "print(np.sum(r1, axis=0)) #对列求和\n",
    "print(np.sum(r1, axis=1)) #对行求和"
   ]
  },
  {
   "cell_type": "code",
   "execution_count": 33,
   "metadata": {},
   "outputs": [
    {
     "name": "stdout",
     "output_type": "stream",
     "text": [
      "5\n",
      "4\n"
     ]
    }
   ],
   "source": [
    "print(np.argmin(r1)) #最小值的索引\n",
    "print(np.argmax(r1)) #最小值的索引"
   ]
  },
  {
   "cell_type": "code",
   "execution_count": 34,
   "metadata": {},
   "outputs": [
    {
     "name": "stdout",
     "output_type": "stream",
     "text": [
      "0.4616449624379606\n",
      "0.4616449624379606\n"
     ]
    }
   ],
   "source": [
    "#平均值\n",
    "print(np.mean(r1))\n",
    "print(r1.mean())"
   ]
  },
  {
   "cell_type": "code",
   "execution_count": 41,
   "metadata": {},
   "outputs": [
    {
     "name": "stdout",
     "output_type": "stream",
     "text": [
      "0.4179299552547302\n"
     ]
    }
   ],
   "source": [
    "#中位数\n",
    "np.median(r1)"
   ]
  },
  {
   "cell_type": "code",
   "execution_count": 42,
   "metadata": {},
   "outputs": [
    {
     "data": {
      "text/plain": [
       "array([[0.57093219, 0.72028499],\n",
       "       [0.51171456, 0.71407027],\n",
       "       [0.99359382, 0.40757689]])"
      ]
     },
     "execution_count": 42,
     "metadata": {},
     "output_type": "execute_result"
    }
   ],
   "source": [
    "#开方\n",
    "np.sqrt(r1)"
   ]
  },
  {
   "cell_type": "code",
   "execution_count": 46,
   "metadata": {},
   "outputs": [
    {
     "name": "stdout",
     "output_type": "stream",
     "text": [
      "[[8 4 5 9 8 8 7 0 6 7 0 0 5 9 0 3 5 9 3]]\n"
     ]
    }
   ],
   "source": [
    "rand = np.random.randint(0,10,(1,19))\n",
    "print(rand)"
   ]
  },
  {
   "cell_type": "code",
   "execution_count": 49,
   "metadata": {},
   "outputs": [
    {
     "name": "stdout",
     "output_type": "stream",
     "text": [
      "[[0 0 0 0 3 3 4 5 5 5 6 7 7 8 8 8 9 9 9]]\n",
      "[[0.32596356 0.51881047]\n",
      " [0.26185179 0.50989635]\n",
      " [0.16611892 0.98722868]]\n"
     ]
    }
   ],
   "source": [
    "print(np.sort(rand)) #排序\n",
    "print(np.sort(r1)) #对每行分别排序"
   ]
  },
  {
   "cell_type": "code",
   "execution_count": 51,
   "metadata": {},
   "outputs": [
    {
     "data": {
      "text/plain": [
       "array([[8, 4, 5, 8, 8, 8, 7, 2, 6, 7, 2, 2, 5, 8, 2, 3, 5, 8, 3]])"
      ]
     },
     "execution_count": 51,
     "metadata": {},
     "output_type": "execute_result"
    }
   ],
   "source": [
    "np.clip(rand, 2, 8) #控制数字范围"
   ]
  }
 ],
 "metadata": {
  "kernelspec": {
   "display_name": "Python 3",
   "language": "python",
   "name": "python3"
  },
  "language_info": {
   "codemirror_mode": {
    "name": "ipython",
    "version": 3
   },
   "file_extension": ".py",
   "mimetype": "text/x-python",
   "name": "python",
   "nbconvert_exporter": "python",
   "pygments_lexer": "ipython3",
   "version": "3.6.5"
  }
 },
 "nbformat": 4,
 "nbformat_minor": 2
}
